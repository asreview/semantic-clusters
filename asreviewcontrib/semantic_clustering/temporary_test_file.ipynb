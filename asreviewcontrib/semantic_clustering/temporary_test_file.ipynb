{
 "cells": [
  {
   "cell_type": "code",
   "execution_count": 1,
   "metadata": {},
   "outputs": [],
   "source": [
    "# Copyright 2021 The ASReview Authors. All Rights Reserved.\n",
    "#\n",
    "# Licensed under the Apache License, Version 2.0 (the \"License\");\n",
    "# you may not use this file except in compliance with the License.\n",
    "# You may obtain a copy of the License at\n",
    "#\n",
    "#     http://www.apache.org/licenses/LICENSE-2.0\n",
    "#\n",
    "# Unless required by applicable law or agreed to in writing, software\n",
    "# distributed under the License is distributed on an \"AS IS\" BASIS,\n",
    "# WITHOUT WARRANTIES OR CONDITIONS OF ANY KIND, either express or implied.\n",
    "# See the License for the specific language governing permissions and\n",
    "# limitations under the License.\n",
    "\n",
    "# imports\n",
    "import os\n",
    "from tqdm import tqdm\n",
    "from dim_reduct import run_pca\n",
    "from dim_reduct import t_sne\n",
    "from clustering import run_KMeans\n",
    "from asreview.data import ASReviewData\n",
    "import numpy as np\n",
    "from transformers import AutoTokenizer, AutoModel\n",
    "from transformers import logging\n",
    "import matplotlib.pyplot as plt\n",
    "import seaborn as sns\n",
    "logging.set_verbosity_error()\n",
    "sns.set()\n",
    "tqdm.pandas()\n"
   ]
  },
  {
   "cell_type": "code",
   "execution_count": 2,
   "metadata": {},
   "outputs": [],
   "source": [
    "def visualize_clusters(data, labels):\n",
    "    fig, ax = plt.subplots()\n",
    "    ax.set_title(\"semantic clustering\")\n",
    "    ax.set_xlabel(\"t-SNE Component 1\")\n",
    "    ax.set_ylabel(\"t-SNE Component 2\")\n",
    "\n",
    "    x = data[0]\n",
    "    y = data[1]\n",
    "\n",
    "    # Do actual plotting and save image\n",
    "    ax.scatter(x, y, c=labels, cmap=\"Set3\")\n",
    "    if not os.path.exists(\"img\"):\n",
    "        os.makedirs(\"img\")\n",
    "    filename = \"clusters.png\"\n",
    "    img_path = os.path.join(\"img\", filename)\n",
    "    fig.savefig(img_path)"
   ]
  },
  {
   "cell_type": "code",
   "execution_count": 3,
   "metadata": {},
   "outputs": [],
   "source": [
    "def load_data(asreview_data_object):\n",
    "\n",
    "    # extract title and abstract, drop empty abstracts and reset index\n",
    "    data = asreview_data_object.df[['title', 'abstract']].copy()\n",
    "    data['abstract'] = data['abstract'].replace('', np.nan, inplace=False)\n",
    "    data.dropna(subset=['abstract'], inplace=True)\n",
    "    data = data.reset_index(drop=True)\n",
    "\n",
    "    return data"
   ]
  },
  {
   "cell_type": "code",
   "execution_count": 5,
   "metadata": {},
   "outputs": [
    {
     "name": "stdout",
     "output_type": "stream",
     "text": [
      "Loading data...\n",
      "Loading scibert transformer...\n",
      "Loading tokenizer and model...\n"
     ]
    }
   ],
   "source": [
    "# load data\n",
    "print(\"Loading data...\")\n",
    "filepath = \"https://raw.githubusercontent.com/asreview/systematic-review-datasets/master/datasets/van_de_Schoot_2017/output/van_de_Schoot_2017.csv\"\n",
    "data = load_data(ASReviewData.from_file(filepath))\n",
    "\n",
    "# cut data for testing\n",
    "data = data.iloc[:100, :]\n",
    "\n",
    "# load scibert transformer\n",
    "print(\"Loading scibert transformer...\")\n",
    "transformer = 'allenai/scibert_scivocab_uncased'\n",
    "\n",
    "# load transformer and tokenizer\n",
    "print(\"Loading tokenizer and model...\")\n",
    "tokenizer = AutoTokenizer.from_pretrained(transformer)\n",
    "model = AutoModel.from_pretrained(transformer)"
   ]
  },
  {
   "cell_type": "code",
   "execution_count": 9,
   "metadata": {},
   "outputs": [
    {
     "name": "stdout",
     "output_type": "stream",
     "text": [
      "Tokenizing abstracts...\n"
     ]
    },
    {
     "name": "stderr",
     "output_type": "stream",
     "text": [
      "100%|██████████| 100/100 [00:00<00:00, 1166.69it/s]\n"
     ]
    }
   ],
   "source": [
    "# tokenize abstracts and add to data\n",
    "print(\"Tokenizing abstracts...\")\n",
    "data['tokenized'] = data['abstract'].progress_apply(lambda x: tokenizer.encode_plus(\n",
    "    x,\n",
    "    add_special_tokens=False,\n",
    "    truncation=True,\n",
    "    max_length=512,\n",
    "    padding='max_length',\n",
    "    return_tensors='pt'))"
   ]
  },
  {
   "cell_type": "code",
   "execution_count": 10,
   "metadata": {},
   "outputs": [
    {
     "name": "stdout",
     "output_type": "stream",
     "text": [
      "Generating embeddings...\n"
     ]
    },
    {
     "name": "stderr",
     "output_type": "stream",
     "text": [
      "100%|██████████| 100/100 [01:32<00:00,  1.08it/s]\n"
     ]
    }
   ],
   "source": [
    "# generate embeddings and format correctly\n",
    "print(\"Generating embeddings...\")\n",
    "data['embeddings'] = data['tokenized'].progress_apply(lambda x: model(\n",
    "    **x,\n",
    "    output_hidden_states=False)[-1].detach().numpy().squeeze())"
   ]
  },
  {
   "cell_type": "code",
   "execution_count": 12,
   "metadata": {},
   "outputs": [
    {
     "name": "stdout",
     "output_type": "stream",
     "text": [
      "Running PCA...\n",
      "Running t-SNE...\n",
      "Running k-means...\n"
     ]
    }
   ],
   "source": [
    "# run pca\n",
    "print(\"Running PCA...\")\n",
    "pca = run_pca(data['embeddings'].tolist(), n_components=.98)\n",
    "\n",
    "# run t-sne\n",
    "print(\"Running t-SNE...\")\n",
    "tsne = t_sne(pca, n_iter=1000)\n",
    "\n",
    "# run k-means\n",
    "print(\"Running k-means...\")\n",
    "labels = run_KMeans(tsne, 10, 10)\n"
   ]
  },
  {
   "cell_type": "code",
   "execution_count": 22,
   "metadata": {},
   "outputs": [],
   "source": [
    "tsne_data = [tsne[:, 0], tsne[:, 1]]"
   ]
  },
  {
   "cell_type": "code",
   "execution_count": 26,
   "metadata": {},
   "outputs": [
    {
     "name": "stdout",
     "output_type": "stream",
     "text": [
      "Visualizing clusters...\n"
     ]
    },
    {
     "data": {
      "image/png": "[encoded data removed]",
      "text/plain": [
       "<Figure size 432x288 with 1 Axes>"
      ]
     },
     "metadata": {},
     "output_type": "display_data"
    }
   ],
   "source": [
    "\n",
    "# visualize clusters\n",
    "print(\"Visualizing clusters...\")\n",
    "visualize_clusters(tsne_data, labels)"
   ]
  }
 ],
 "metadata": {
  "interpreter": {
   "hash": "ac59ebe37160ed0dfa835113d9b8498d9f09ceb179beaac4002f036b9467c963"
  },
  "kernelspec": {
   "display_name": "Python 3.9.6 64-bit",
   "name": "python3"
  },
  "language_info": {
   "codemirror_mode": {
    "name": "ipython",
    "version": 3
   },
   "file_extension": ".py",
   "mimetype": "text/x-python",
   "name": "python",
   "nbconvert_exporter": "python",
   "pygments_lexer": "ipython3",
   "version": "3.9.6"
  },
  "orig_nbformat": 4
 },
 "nbformat": 4,
 "nbformat_minor": 2
}
